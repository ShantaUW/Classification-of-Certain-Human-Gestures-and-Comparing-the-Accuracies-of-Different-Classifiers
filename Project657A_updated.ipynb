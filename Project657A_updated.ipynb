{
 "cells": [
  {
   "cell_type": "code",
   "execution_count": 68,
   "metadata": {},
   "outputs": [],
   "source": [
    "import warnings\n",
    "warnings.filterwarnings('ignore')"
   ]
  },
  {
   "cell_type": "code",
   "execution_count": 69,
   "metadata": {},
   "outputs": [
    {
     "data": {
      "text/html": [
       "<div>\n",
       "<style scoped>\n",
       "    .dataframe tbody tr th:only-of-type {\n",
       "        vertical-align: middle;\n",
       "    }\n",
       "\n",
       "    .dataframe tbody tr th {\n",
       "        vertical-align: top;\n",
       "    }\n",
       "\n",
       "    .dataframe thead th {\n",
       "        text-align: right;\n",
       "    }\n",
       "</style>\n",
       "<table border=\"1\" class=\"dataframe\">\n",
       "  <thead>\n",
       "    <tr style=\"text-align: right;\">\n",
       "      <th></th>\n",
       "      <th>Var_15_qr</th>\n",
       "      <th>Var_15_qx</th>\n",
       "      <th>Var_15_qy</th>\n",
       "      <th>Var_15_qz</th>\n",
       "      <th>Var_16_qr</th>\n",
       "      <th>Var_16_qx</th>\n",
       "      <th>Var_16_qy</th>\n",
       "      <th>Var_16_qz</th>\n",
       "      <th>Var_17_qr</th>\n",
       "      <th>Var_17_qx</th>\n",
       "      <th>...</th>\n",
       "      <th>Cov_17_18_qz</th>\n",
       "      <th>Cov_17_19_qr</th>\n",
       "      <th>Cov_17_19_qx</th>\n",
       "      <th>Cov_17_19_qy</th>\n",
       "      <th>Cov_17_19_qz</th>\n",
       "      <th>Cov_18_19_qr</th>\n",
       "      <th>Cov_18_19_qx</th>\n",
       "      <th>Cov_18_19_qy</th>\n",
       "      <th>Cov_18_19_qz</th>\n",
       "      <th>class</th>\n",
       "    </tr>\n",
       "  </thead>\n",
       "  <tbody>\n",
       "    <tr>\n",
       "      <th>0</th>\n",
       "      <td>0.000313</td>\n",
       "      <td>0.003230</td>\n",
       "      <td>0.000616</td>\n",
       "      <td>0.003292</td>\n",
       "      <td>0.000051</td>\n",
       "      <td>0.001721</td>\n",
       "      <td>0.000683</td>\n",
       "      <td>0.000773</td>\n",
       "      <td>0.005592</td>\n",
       "      <td>0.003601</td>\n",
       "      <td>...</td>\n",
       "      <td>-0.006275</td>\n",
       "      <td>-0.001331</td>\n",
       "      <td>0.000297</td>\n",
       "      <td>0.000303</td>\n",
       "      <td>0.001013</td>\n",
       "      <td>0.001119</td>\n",
       "      <td>-0.001948</td>\n",
       "      <td>-0.000260</td>\n",
       "      <td>-0.000386</td>\n",
       "      <td>Jab</td>\n",
       "    </tr>\n",
       "    <tr>\n",
       "      <th>1</th>\n",
       "      <td>0.000673</td>\n",
       "      <td>0.004623</td>\n",
       "      <td>0.000179</td>\n",
       "      <td>0.002054</td>\n",
       "      <td>0.000160</td>\n",
       "      <td>0.003014</td>\n",
       "      <td>0.000917</td>\n",
       "      <td>0.001730</td>\n",
       "      <td>0.004075</td>\n",
       "      <td>0.002633</td>\n",
       "      <td>...</td>\n",
       "      <td>-0.002660</td>\n",
       "      <td>-0.001594</td>\n",
       "      <td>0.000323</td>\n",
       "      <td>0.000447</td>\n",
       "      <td>0.001794</td>\n",
       "      <td>0.001149</td>\n",
       "      <td>-0.002598</td>\n",
       "      <td>-0.000181</td>\n",
       "      <td>-0.000161</td>\n",
       "      <td>Jab</td>\n",
       "    </tr>\n",
       "    <tr>\n",
       "      <th>2</th>\n",
       "      <td>0.000605</td>\n",
       "      <td>0.002843</td>\n",
       "      <td>0.000222</td>\n",
       "      <td>0.001603</td>\n",
       "      <td>0.000016</td>\n",
       "      <td>0.001954</td>\n",
       "      <td>0.000575</td>\n",
       "      <td>0.000914</td>\n",
       "      <td>0.002856</td>\n",
       "      <td>0.001607</td>\n",
       "      <td>...</td>\n",
       "      <td>-0.003839</td>\n",
       "      <td>-0.000857</td>\n",
       "      <td>-0.000103</td>\n",
       "      <td>0.000387</td>\n",
       "      <td>0.001186</td>\n",
       "      <td>0.000906</td>\n",
       "      <td>-0.001567</td>\n",
       "      <td>-0.000430</td>\n",
       "      <td>-0.000118</td>\n",
       "      <td>Jab</td>\n",
       "    </tr>\n",
       "    <tr>\n",
       "      <th>3</th>\n",
       "      <td>0.000368</td>\n",
       "      <td>0.002182</td>\n",
       "      <td>0.000140</td>\n",
       "      <td>0.000913</td>\n",
       "      <td>0.000041</td>\n",
       "      <td>0.001484</td>\n",
       "      <td>0.000567</td>\n",
       "      <td>0.000716</td>\n",
       "      <td>0.002960</td>\n",
       "      <td>0.004471</td>\n",
       "      <td>...</td>\n",
       "      <td>0.002660</td>\n",
       "      <td>-0.000856</td>\n",
       "      <td>0.000212</td>\n",
       "      <td>0.000459</td>\n",
       "      <td>0.000896</td>\n",
       "      <td>0.000570</td>\n",
       "      <td>-0.001941</td>\n",
       "      <td>0.000005</td>\n",
       "      <td>-0.000046</td>\n",
       "      <td>Jab</td>\n",
       "    </tr>\n",
       "    <tr>\n",
       "      <th>4</th>\n",
       "      <td>0.000439</td>\n",
       "      <td>0.001805</td>\n",
       "      <td>0.000204</td>\n",
       "      <td>0.000550</td>\n",
       "      <td>0.000051</td>\n",
       "      <td>0.001403</td>\n",
       "      <td>0.000524</td>\n",
       "      <td>0.000528</td>\n",
       "      <td>0.002901</td>\n",
       "      <td>0.004121</td>\n",
       "      <td>...</td>\n",
       "      <td>-0.004024</td>\n",
       "      <td>-0.000658</td>\n",
       "      <td>0.000500</td>\n",
       "      <td>0.000888</td>\n",
       "      <td>0.000786</td>\n",
       "      <td>0.000796</td>\n",
       "      <td>-0.001837</td>\n",
       "      <td>-0.000033</td>\n",
       "      <td>-0.000173</td>\n",
       "      <td>Jab</td>\n",
       "    </tr>\n",
       "  </tbody>\n",
       "</table>\n",
       "<p>5 rows × 116 columns</p>\n",
       "</div>"
      ],
      "text/plain": [
       "   Var_15_qr  Var_15_qx  Var_15_qy  Var_15_qz  Var_16_qr  Var_16_qx  \\\n",
       "0   0.000313   0.003230   0.000616   0.003292   0.000051   0.001721   \n",
       "1   0.000673   0.004623   0.000179   0.002054   0.000160   0.003014   \n",
       "2   0.000605   0.002843   0.000222   0.001603   0.000016   0.001954   \n",
       "3   0.000368   0.002182   0.000140   0.000913   0.000041   0.001484   \n",
       "4   0.000439   0.001805   0.000204   0.000550   0.000051   0.001403   \n",
       "\n",
       "   Var_16_qy  Var_16_qz  Var_17_qr  Var_17_qx  ...  Cov_17_18_qz  \\\n",
       "0   0.000683   0.000773   0.005592   0.003601  ...     -0.006275   \n",
       "1   0.000917   0.001730   0.004075   0.002633  ...     -0.002660   \n",
       "2   0.000575   0.000914   0.002856   0.001607  ...     -0.003839   \n",
       "3   0.000567   0.000716   0.002960   0.004471  ...      0.002660   \n",
       "4   0.000524   0.000528   0.002901   0.004121  ...     -0.004024   \n",
       "\n",
       "   Cov_17_19_qr  Cov_17_19_qx  Cov_17_19_qy  Cov_17_19_qz  Cov_18_19_qr  \\\n",
       "0     -0.001331      0.000297      0.000303      0.001013      0.001119   \n",
       "1     -0.001594      0.000323      0.000447      0.001794      0.001149   \n",
       "2     -0.000857     -0.000103      0.000387      0.001186      0.000906   \n",
       "3     -0.000856      0.000212      0.000459      0.000896      0.000570   \n",
       "4     -0.000658      0.000500      0.000888      0.000786      0.000796   \n",
       "\n",
       "   Cov_18_19_qx  Cov_18_19_qy  Cov_18_19_qz  class  \n",
       "0     -0.001948     -0.000260     -0.000386    Jab  \n",
       "1     -0.002598     -0.000181     -0.000161    Jab  \n",
       "2     -0.001567     -0.000430     -0.000118    Jab  \n",
       "3     -0.001941      0.000005     -0.000046    Jab  \n",
       "4     -0.001837     -0.000033     -0.000173    Jab  \n",
       "\n",
       "[5 rows x 116 columns]"
      ]
     },
     "execution_count": 69,
     "metadata": {},
     "output_type": "execute_result"
    }
   ],
   "source": [
    "import pandas as pd\n",
    "from sklearn.preprocessing import LabelEncoder\n",
    "from sklearn.model_selection import train_test_split\n",
    "from sklearn.svm import LinearSVC\n",
    "from sklearn import metrics\n",
    "from sklearn.decomposition import PCA\n",
    "from sklearn.discriminant_analysis import LinearDiscriminantAnalysis as LDA\n",
    "from sklearn.neural_network import MLPClassifier\n",
    "from sklearn.metrics import classification_report\n",
    "from sklearn.metrics import confusion_matrix\n",
    "import seaborn as sns\n",
    "import numpy as np\n",
    "import matplotlib.pyplot as plt\n",
    "from sklearn.metrics import accuracy_score, confusion_matrix, precision_recall_fscore_support\n",
    "raw_data = pd.read_csv('FeatureSet.csv')\n",
    "raw_data.head(5)"
   ]
  },
  {
   "cell_type": "code",
   "execution_count": 70,
   "metadata": {},
   "outputs": [
    {
     "data": {
      "text/html": [
       "<div>\n",
       "<style scoped>\n",
       "    .dataframe tbody tr th:only-of-type {\n",
       "        vertical-align: middle;\n",
       "    }\n",
       "\n",
       "    .dataframe tbody tr th {\n",
       "        vertical-align: top;\n",
       "    }\n",
       "\n",
       "    .dataframe thead th {\n",
       "        text-align: right;\n",
       "    }\n",
       "</style>\n",
       "<table border=\"1\" class=\"dataframe\">\n",
       "  <thead>\n",
       "    <tr style=\"text-align: right;\">\n",
       "      <th></th>\n",
       "      <th>Var_15_qr</th>\n",
       "      <th>Var_15_qx</th>\n",
       "      <th>Var_15_qy</th>\n",
       "      <th>Var_15_qz</th>\n",
       "      <th>Var_16_qr</th>\n",
       "      <th>Var_16_qx</th>\n",
       "      <th>Var_16_qy</th>\n",
       "      <th>Var_16_qz</th>\n",
       "      <th>Var_17_qr</th>\n",
       "      <th>Var_17_qx</th>\n",
       "      <th>...</th>\n",
       "      <th>Cov_17_18_qz</th>\n",
       "      <th>Cov_17_19_qr</th>\n",
       "      <th>Cov_17_19_qx</th>\n",
       "      <th>Cov_17_19_qy</th>\n",
       "      <th>Cov_17_19_qz</th>\n",
       "      <th>Cov_18_19_qr</th>\n",
       "      <th>Cov_18_19_qx</th>\n",
       "      <th>Cov_18_19_qy</th>\n",
       "      <th>Cov_18_19_qz</th>\n",
       "      <th>class</th>\n",
       "    </tr>\n",
       "  </thead>\n",
       "  <tbody>\n",
       "    <tr>\n",
       "      <th>0</th>\n",
       "      <td>0.000313</td>\n",
       "      <td>0.003230</td>\n",
       "      <td>0.000616</td>\n",
       "      <td>0.003292</td>\n",
       "      <td>0.000051</td>\n",
       "      <td>0.001721</td>\n",
       "      <td>0.000683</td>\n",
       "      <td>0.000773</td>\n",
       "      <td>0.005592</td>\n",
       "      <td>0.003601</td>\n",
       "      <td>...</td>\n",
       "      <td>-0.006275</td>\n",
       "      <td>-0.001331</td>\n",
       "      <td>0.000297</td>\n",
       "      <td>0.000303</td>\n",
       "      <td>0.001013</td>\n",
       "      <td>0.001119</td>\n",
       "      <td>-0.001948</td>\n",
       "      <td>-0.000260</td>\n",
       "      <td>-0.000386</td>\n",
       "      <td>Jab</td>\n",
       "    </tr>\n",
       "    <tr>\n",
       "      <th>1</th>\n",
       "      <td>0.000673</td>\n",
       "      <td>0.004623</td>\n",
       "      <td>0.000179</td>\n",
       "      <td>0.002054</td>\n",
       "      <td>0.000160</td>\n",
       "      <td>0.003014</td>\n",
       "      <td>0.000917</td>\n",
       "      <td>0.001730</td>\n",
       "      <td>0.004075</td>\n",
       "      <td>0.002633</td>\n",
       "      <td>...</td>\n",
       "      <td>-0.002660</td>\n",
       "      <td>-0.001594</td>\n",
       "      <td>0.000323</td>\n",
       "      <td>0.000447</td>\n",
       "      <td>0.001794</td>\n",
       "      <td>0.001149</td>\n",
       "      <td>-0.002598</td>\n",
       "      <td>-0.000181</td>\n",
       "      <td>-0.000161</td>\n",
       "      <td>Jab</td>\n",
       "    </tr>\n",
       "    <tr>\n",
       "      <th>2</th>\n",
       "      <td>0.000605</td>\n",
       "      <td>0.002843</td>\n",
       "      <td>0.000222</td>\n",
       "      <td>0.001603</td>\n",
       "      <td>0.000016</td>\n",
       "      <td>0.001954</td>\n",
       "      <td>0.000575</td>\n",
       "      <td>0.000914</td>\n",
       "      <td>0.002856</td>\n",
       "      <td>0.001607</td>\n",
       "      <td>...</td>\n",
       "      <td>-0.003839</td>\n",
       "      <td>-0.000857</td>\n",
       "      <td>-0.000103</td>\n",
       "      <td>0.000387</td>\n",
       "      <td>0.001186</td>\n",
       "      <td>0.000906</td>\n",
       "      <td>-0.001567</td>\n",
       "      <td>-0.000430</td>\n",
       "      <td>-0.000118</td>\n",
       "      <td>Jab</td>\n",
       "    </tr>\n",
       "    <tr>\n",
       "      <th>3</th>\n",
       "      <td>0.000368</td>\n",
       "      <td>0.002182</td>\n",
       "      <td>0.000140</td>\n",
       "      <td>0.000913</td>\n",
       "      <td>0.000041</td>\n",
       "      <td>0.001484</td>\n",
       "      <td>0.000567</td>\n",
       "      <td>0.000716</td>\n",
       "      <td>0.002960</td>\n",
       "      <td>0.004471</td>\n",
       "      <td>...</td>\n",
       "      <td>0.002660</td>\n",
       "      <td>-0.000856</td>\n",
       "      <td>0.000212</td>\n",
       "      <td>0.000459</td>\n",
       "      <td>0.000896</td>\n",
       "      <td>0.000570</td>\n",
       "      <td>-0.001941</td>\n",
       "      <td>0.000005</td>\n",
       "      <td>-0.000046</td>\n",
       "      <td>Jab</td>\n",
       "    </tr>\n",
       "    <tr>\n",
       "      <th>4</th>\n",
       "      <td>0.000439</td>\n",
       "      <td>0.001805</td>\n",
       "      <td>0.000204</td>\n",
       "      <td>0.000550</td>\n",
       "      <td>0.000051</td>\n",
       "      <td>0.001403</td>\n",
       "      <td>0.000524</td>\n",
       "      <td>0.000528</td>\n",
       "      <td>0.002901</td>\n",
       "      <td>0.004121</td>\n",
       "      <td>...</td>\n",
       "      <td>-0.004024</td>\n",
       "      <td>-0.000658</td>\n",
       "      <td>0.000500</td>\n",
       "      <td>0.000888</td>\n",
       "      <td>0.000786</td>\n",
       "      <td>0.000796</td>\n",
       "      <td>-0.001837</td>\n",
       "      <td>-0.000033</td>\n",
       "      <td>-0.000173</td>\n",
       "      <td>Jab</td>\n",
       "    </tr>\n",
       "  </tbody>\n",
       "</table>\n",
       "<p>5 rows × 116 columns</p>\n",
       "</div>"
      ],
      "text/plain": [
       "   Var_15_qr  Var_15_qx  Var_15_qy  Var_15_qz  Var_16_qr  Var_16_qx  \\\n",
       "0   0.000313   0.003230   0.000616   0.003292   0.000051   0.001721   \n",
       "1   0.000673   0.004623   0.000179   0.002054   0.000160   0.003014   \n",
       "2   0.000605   0.002843   0.000222   0.001603   0.000016   0.001954   \n",
       "3   0.000368   0.002182   0.000140   0.000913   0.000041   0.001484   \n",
       "4   0.000439   0.001805   0.000204   0.000550   0.000051   0.001403   \n",
       "\n",
       "   Var_16_qy  Var_16_qz  Var_17_qr  Var_17_qx  ...  Cov_17_18_qz  \\\n",
       "0   0.000683   0.000773   0.005592   0.003601  ...     -0.006275   \n",
       "1   0.000917   0.001730   0.004075   0.002633  ...     -0.002660   \n",
       "2   0.000575   0.000914   0.002856   0.001607  ...     -0.003839   \n",
       "3   0.000567   0.000716   0.002960   0.004471  ...      0.002660   \n",
       "4   0.000524   0.000528   0.002901   0.004121  ...     -0.004024   \n",
       "\n",
       "   Cov_17_19_qr  Cov_17_19_qx  Cov_17_19_qy  Cov_17_19_qz  Cov_18_19_qr  \\\n",
       "0     -0.001331      0.000297      0.000303      0.001013      0.001119   \n",
       "1     -0.001594      0.000323      0.000447      0.001794      0.001149   \n",
       "2     -0.000857     -0.000103      0.000387      0.001186      0.000906   \n",
       "3     -0.000856      0.000212      0.000459      0.000896      0.000570   \n",
       "4     -0.000658      0.000500      0.000888      0.000786      0.000796   \n",
       "\n",
       "   Cov_18_19_qx  Cov_18_19_qy  Cov_18_19_qz  class  \n",
       "0     -0.001948     -0.000260     -0.000386    Jab  \n",
       "1     -0.002598     -0.000181     -0.000161    Jab  \n",
       "2     -0.001567     -0.000430     -0.000118    Jab  \n",
       "3     -0.001941      0.000005     -0.000046    Jab  \n",
       "4     -0.001837     -0.000033     -0.000173    Jab  \n",
       "\n",
       "[5 rows x 116 columns]"
      ]
     },
     "execution_count": 70,
     "metadata": {},
     "output_type": "execute_result"
    }
   ],
   "source": [
    "new_data=raw_data.interpolate(method='linear', axis=0, limit=None, inplace=False, downcast=None)\n",
    "new_data.head(5)"
   ]
  },
  {
   "cell_type": "code",
   "execution_count": 71,
   "metadata": {},
   "outputs": [
    {
     "data": {
      "text/plain": [
       "0       0\n",
       "1       0\n",
       "2       0\n",
       "3       0\n",
       "4       0\n",
       "5       0\n",
       "6       0\n",
       "7       0\n",
       "8       0\n",
       "9       0\n",
       "10      0\n",
       "11      0\n",
       "12      0\n",
       "13      0\n",
       "14      0\n",
       "15      0\n",
       "16      0\n",
       "17      0\n",
       "18      0\n",
       "19      0\n",
       "20      0\n",
       "21      0\n",
       "22      0\n",
       "23      0\n",
       "24      0\n",
       "25      0\n",
       "26      0\n",
       "27      0\n",
       "28      0\n",
       "29      0\n",
       "       ..\n",
       "1050    0\n",
       "1051    0\n",
       "1052    0\n",
       "1053    0\n",
       "1054    0\n",
       "1055    0\n",
       "1056    0\n",
       "1057    0\n",
       "1058    0\n",
       "1059    0\n",
       "1060    0\n",
       "1061    0\n",
       "1062    0\n",
       "1063    0\n",
       "1064    0\n",
       "1065    0\n",
       "1066    0\n",
       "1067    0\n",
       "1068    0\n",
       "1069    0\n",
       "1070    0\n",
       "1071    0\n",
       "1072    0\n",
       "1073    0\n",
       "1074    0\n",
       "1075    0\n",
       "1076    0\n",
       "1077    0\n",
       "1078    0\n",
       "1079    0\n",
       "Length: 1080, dtype: int64"
      ]
     },
     "execution_count": 71,
     "metadata": {},
     "output_type": "execute_result"
    }
   ],
   "source": [
    "#check for zero\n",
    "(new_data == 0).sum(axis=1)"
   ]
  },
  {
   "cell_type": "code",
   "execution_count": 72,
   "metadata": {},
   "outputs": [
    {
     "data": {
      "text/html": [
       "<div>\n",
       "<style scoped>\n",
       "    .dataframe tbody tr th:only-of-type {\n",
       "        vertical-align: middle;\n",
       "    }\n",
       "\n",
       "    .dataframe tbody tr th {\n",
       "        vertical-align: top;\n",
       "    }\n",
       "\n",
       "    .dataframe thead th {\n",
       "        text-align: right;\n",
       "    }\n",
       "</style>\n",
       "<table border=\"1\" class=\"dataframe\">\n",
       "  <thead>\n",
       "    <tr style=\"text-align: right;\">\n",
       "      <th></th>\n",
       "      <th>Var_15_qr</th>\n",
       "      <th>Var_15_qx</th>\n",
       "      <th>Var_15_qy</th>\n",
       "      <th>Var_15_qz</th>\n",
       "      <th>Var_16_qr</th>\n",
       "      <th>Var_16_qx</th>\n",
       "      <th>Var_16_qy</th>\n",
       "      <th>Var_16_qz</th>\n",
       "      <th>Var_17_qr</th>\n",
       "      <th>Var_17_qx</th>\n",
       "      <th>...</th>\n",
       "      <th>Cov_17_18_qz</th>\n",
       "      <th>Cov_17_19_qr</th>\n",
       "      <th>Cov_17_19_qx</th>\n",
       "      <th>Cov_17_19_qy</th>\n",
       "      <th>Cov_17_19_qz</th>\n",
       "      <th>Cov_18_19_qr</th>\n",
       "      <th>Cov_18_19_qx</th>\n",
       "      <th>Cov_18_19_qy</th>\n",
       "      <th>Cov_18_19_qz</th>\n",
       "      <th>new_class</th>\n",
       "    </tr>\n",
       "  </thead>\n",
       "  <tbody>\n",
       "    <tr>\n",
       "      <th>0</th>\n",
       "      <td>0.000313</td>\n",
       "      <td>0.003230</td>\n",
       "      <td>0.000616</td>\n",
       "      <td>0.003292</td>\n",
       "      <td>0.000051</td>\n",
       "      <td>0.001721</td>\n",
       "      <td>0.000683</td>\n",
       "      <td>0.000773</td>\n",
       "      <td>0.005592</td>\n",
       "      <td>0.003601</td>\n",
       "      <td>...</td>\n",
       "      <td>-0.006275</td>\n",
       "      <td>-0.001331</td>\n",
       "      <td>0.000297</td>\n",
       "      <td>0.000303</td>\n",
       "      <td>0.001013</td>\n",
       "      <td>0.001119</td>\n",
       "      <td>-0.001948</td>\n",
       "      <td>-0.000260</td>\n",
       "      <td>-0.000386</td>\n",
       "      <td>1</td>\n",
       "    </tr>\n",
       "    <tr>\n",
       "      <th>1</th>\n",
       "      <td>0.000673</td>\n",
       "      <td>0.004623</td>\n",
       "      <td>0.000179</td>\n",
       "      <td>0.002054</td>\n",
       "      <td>0.000160</td>\n",
       "      <td>0.003014</td>\n",
       "      <td>0.000917</td>\n",
       "      <td>0.001730</td>\n",
       "      <td>0.004075</td>\n",
       "      <td>0.002633</td>\n",
       "      <td>...</td>\n",
       "      <td>-0.002660</td>\n",
       "      <td>-0.001594</td>\n",
       "      <td>0.000323</td>\n",
       "      <td>0.000447</td>\n",
       "      <td>0.001794</td>\n",
       "      <td>0.001149</td>\n",
       "      <td>-0.002598</td>\n",
       "      <td>-0.000181</td>\n",
       "      <td>-0.000161</td>\n",
       "      <td>1</td>\n",
       "    </tr>\n",
       "    <tr>\n",
       "      <th>2</th>\n",
       "      <td>0.000605</td>\n",
       "      <td>0.002843</td>\n",
       "      <td>0.000222</td>\n",
       "      <td>0.001603</td>\n",
       "      <td>0.000016</td>\n",
       "      <td>0.001954</td>\n",
       "      <td>0.000575</td>\n",
       "      <td>0.000914</td>\n",
       "      <td>0.002856</td>\n",
       "      <td>0.001607</td>\n",
       "      <td>...</td>\n",
       "      <td>-0.003839</td>\n",
       "      <td>-0.000857</td>\n",
       "      <td>-0.000103</td>\n",
       "      <td>0.000387</td>\n",
       "      <td>0.001186</td>\n",
       "      <td>0.000906</td>\n",
       "      <td>-0.001567</td>\n",
       "      <td>-0.000430</td>\n",
       "      <td>-0.000118</td>\n",
       "      <td>1</td>\n",
       "    </tr>\n",
       "    <tr>\n",
       "      <th>3</th>\n",
       "      <td>0.000368</td>\n",
       "      <td>0.002182</td>\n",
       "      <td>0.000140</td>\n",
       "      <td>0.000913</td>\n",
       "      <td>0.000041</td>\n",
       "      <td>0.001484</td>\n",
       "      <td>0.000567</td>\n",
       "      <td>0.000716</td>\n",
       "      <td>0.002960</td>\n",
       "      <td>0.004471</td>\n",
       "      <td>...</td>\n",
       "      <td>0.002660</td>\n",
       "      <td>-0.000856</td>\n",
       "      <td>0.000212</td>\n",
       "      <td>0.000459</td>\n",
       "      <td>0.000896</td>\n",
       "      <td>0.000570</td>\n",
       "      <td>-0.001941</td>\n",
       "      <td>0.000005</td>\n",
       "      <td>-0.000046</td>\n",
       "      <td>1</td>\n",
       "    </tr>\n",
       "    <tr>\n",
       "      <th>4</th>\n",
       "      <td>0.000439</td>\n",
       "      <td>0.001805</td>\n",
       "      <td>0.000204</td>\n",
       "      <td>0.000550</td>\n",
       "      <td>0.000051</td>\n",
       "      <td>0.001403</td>\n",
       "      <td>0.000524</td>\n",
       "      <td>0.000528</td>\n",
       "      <td>0.002901</td>\n",
       "      <td>0.004121</td>\n",
       "      <td>...</td>\n",
       "      <td>-0.004024</td>\n",
       "      <td>-0.000658</td>\n",
       "      <td>0.000500</td>\n",
       "      <td>0.000888</td>\n",
       "      <td>0.000786</td>\n",
       "      <td>0.000796</td>\n",
       "      <td>-0.001837</td>\n",
       "      <td>-0.000033</td>\n",
       "      <td>-0.000173</td>\n",
       "      <td>1</td>\n",
       "    </tr>\n",
       "    <tr>\n",
       "      <th>5</th>\n",
       "      <td>0.000571</td>\n",
       "      <td>0.003266</td>\n",
       "      <td>0.000394</td>\n",
       "      <td>0.001937</td>\n",
       "      <td>0.000097</td>\n",
       "      <td>0.001723</td>\n",
       "      <td>0.000599</td>\n",
       "      <td>0.001027</td>\n",
       "      <td>0.002896</td>\n",
       "      <td>0.003269</td>\n",
       "      <td>...</td>\n",
       "      <td>-0.002815</td>\n",
       "      <td>-0.000970</td>\n",
       "      <td>0.000081</td>\n",
       "      <td>0.000699</td>\n",
       "      <td>0.001407</td>\n",
       "      <td>0.000794</td>\n",
       "      <td>-0.001802</td>\n",
       "      <td>-0.000427</td>\n",
       "      <td>-0.000187</td>\n",
       "      <td>1</td>\n",
       "    </tr>\n",
       "    <tr>\n",
       "      <th>6</th>\n",
       "      <td>0.000368</td>\n",
       "      <td>0.002016</td>\n",
       "      <td>0.000063</td>\n",
       "      <td>0.000796</td>\n",
       "      <td>0.000080</td>\n",
       "      <td>0.001376</td>\n",
       "      <td>0.000713</td>\n",
       "      <td>0.000912</td>\n",
       "      <td>0.002759</td>\n",
       "      <td>0.001430</td>\n",
       "      <td>...</td>\n",
       "      <td>-0.004611</td>\n",
       "      <td>-0.000960</td>\n",
       "      <td>-0.000369</td>\n",
       "      <td>0.000063</td>\n",
       "      <td>0.001669</td>\n",
       "      <td>0.000936</td>\n",
       "      <td>-0.001778</td>\n",
       "      <td>-0.000918</td>\n",
       "      <td>-0.000260</td>\n",
       "      <td>1</td>\n",
       "    </tr>\n",
       "    <tr>\n",
       "      <th>7</th>\n",
       "      <td>0.000458</td>\n",
       "      <td>0.001178</td>\n",
       "      <td>0.000050</td>\n",
       "      <td>0.000315</td>\n",
       "      <td>0.000044</td>\n",
       "      <td>0.000989</td>\n",
       "      <td>0.000543</td>\n",
       "      <td>0.000548</td>\n",
       "      <td>0.003062</td>\n",
       "      <td>0.001632</td>\n",
       "      <td>...</td>\n",
       "      <td>-0.001572</td>\n",
       "      <td>-0.000831</td>\n",
       "      <td>-0.000025</td>\n",
       "      <td>0.000234</td>\n",
       "      <td>0.000665</td>\n",
       "      <td>0.000590</td>\n",
       "      <td>-0.001810</td>\n",
       "      <td>-0.000457</td>\n",
       "      <td>-0.000076</td>\n",
       "      <td>1</td>\n",
       "    </tr>\n",
       "    <tr>\n",
       "      <th>8</th>\n",
       "      <td>0.000813</td>\n",
       "      <td>0.002831</td>\n",
       "      <td>0.000276</td>\n",
       "      <td>0.001638</td>\n",
       "      <td>0.000124</td>\n",
       "      <td>0.002195</td>\n",
       "      <td>0.000949</td>\n",
       "      <td>0.001367</td>\n",
       "      <td>0.002877</td>\n",
       "      <td>0.002534</td>\n",
       "      <td>...</td>\n",
       "      <td>0.001152</td>\n",
       "      <td>-0.001106</td>\n",
       "      <td>0.000112</td>\n",
       "      <td>0.000508</td>\n",
       "      <td>0.001977</td>\n",
       "      <td>0.000824</td>\n",
       "      <td>-0.001695</td>\n",
       "      <td>-0.000520</td>\n",
       "      <td>-0.000126</td>\n",
       "      <td>1</td>\n",
       "    </tr>\n",
       "    <tr>\n",
       "      <th>9</th>\n",
       "      <td>0.000604</td>\n",
       "      <td>0.003279</td>\n",
       "      <td>0.000247</td>\n",
       "      <td>0.001791</td>\n",
       "      <td>0.000147</td>\n",
       "      <td>0.001864</td>\n",
       "      <td>0.000847</td>\n",
       "      <td>0.001259</td>\n",
       "      <td>0.002580</td>\n",
       "      <td>0.001750</td>\n",
       "      <td>...</td>\n",
       "      <td>-0.003241</td>\n",
       "      <td>-0.001038</td>\n",
       "      <td>-0.000310</td>\n",
       "      <td>-0.000039</td>\n",
       "      <td>0.001336</td>\n",
       "      <td>0.000992</td>\n",
       "      <td>-0.001558</td>\n",
       "      <td>-0.000991</td>\n",
       "      <td>-0.000089</td>\n",
       "      <td>1</td>\n",
       "    </tr>\n",
       "  </tbody>\n",
       "</table>\n",
       "<p>10 rows × 116 columns</p>\n",
       "</div>"
      ],
      "text/plain": [
       "   Var_15_qr  Var_15_qx  Var_15_qy  Var_15_qz  Var_16_qr  Var_16_qx  \\\n",
       "0   0.000313   0.003230   0.000616   0.003292   0.000051   0.001721   \n",
       "1   0.000673   0.004623   0.000179   0.002054   0.000160   0.003014   \n",
       "2   0.000605   0.002843   0.000222   0.001603   0.000016   0.001954   \n",
       "3   0.000368   0.002182   0.000140   0.000913   0.000041   0.001484   \n",
       "4   0.000439   0.001805   0.000204   0.000550   0.000051   0.001403   \n",
       "5   0.000571   0.003266   0.000394   0.001937   0.000097   0.001723   \n",
       "6   0.000368   0.002016   0.000063   0.000796   0.000080   0.001376   \n",
       "7   0.000458   0.001178   0.000050   0.000315   0.000044   0.000989   \n",
       "8   0.000813   0.002831   0.000276   0.001638   0.000124   0.002195   \n",
       "9   0.000604   0.003279   0.000247   0.001791   0.000147   0.001864   \n",
       "\n",
       "   Var_16_qy  Var_16_qz  Var_17_qr  Var_17_qx  ...  Cov_17_18_qz  \\\n",
       "0   0.000683   0.000773   0.005592   0.003601  ...     -0.006275   \n",
       "1   0.000917   0.001730   0.004075   0.002633  ...     -0.002660   \n",
       "2   0.000575   0.000914   0.002856   0.001607  ...     -0.003839   \n",
       "3   0.000567   0.000716   0.002960   0.004471  ...      0.002660   \n",
       "4   0.000524   0.000528   0.002901   0.004121  ...     -0.004024   \n",
       "5   0.000599   0.001027   0.002896   0.003269  ...     -0.002815   \n",
       "6   0.000713   0.000912   0.002759   0.001430  ...     -0.004611   \n",
       "7   0.000543   0.000548   0.003062   0.001632  ...     -0.001572   \n",
       "8   0.000949   0.001367   0.002877   0.002534  ...      0.001152   \n",
       "9   0.000847   0.001259   0.002580   0.001750  ...     -0.003241   \n",
       "\n",
       "   Cov_17_19_qr  Cov_17_19_qx  Cov_17_19_qy  Cov_17_19_qz  Cov_18_19_qr  \\\n",
       "0     -0.001331      0.000297      0.000303      0.001013      0.001119   \n",
       "1     -0.001594      0.000323      0.000447      0.001794      0.001149   \n",
       "2     -0.000857     -0.000103      0.000387      0.001186      0.000906   \n",
       "3     -0.000856      0.000212      0.000459      0.000896      0.000570   \n",
       "4     -0.000658      0.000500      0.000888      0.000786      0.000796   \n",
       "5     -0.000970      0.000081      0.000699      0.001407      0.000794   \n",
       "6     -0.000960     -0.000369      0.000063      0.001669      0.000936   \n",
       "7     -0.000831     -0.000025      0.000234      0.000665      0.000590   \n",
       "8     -0.001106      0.000112      0.000508      0.001977      0.000824   \n",
       "9     -0.001038     -0.000310     -0.000039      0.001336      0.000992   \n",
       "\n",
       "   Cov_18_19_qx  Cov_18_19_qy  Cov_18_19_qz  new_class  \n",
       "0     -0.001948     -0.000260     -0.000386          1  \n",
       "1     -0.002598     -0.000181     -0.000161          1  \n",
       "2     -0.001567     -0.000430     -0.000118          1  \n",
       "3     -0.001941      0.000005     -0.000046          1  \n",
       "4     -0.001837     -0.000033     -0.000173          1  \n",
       "5     -0.001802     -0.000427     -0.000187          1  \n",
       "6     -0.001778     -0.000918     -0.000260          1  \n",
       "7     -0.001810     -0.000457     -0.000076          1  \n",
       "8     -0.001695     -0.000520     -0.000126          1  \n",
       "9     -0.001558     -0.000991     -0.000089          1  \n",
       "\n",
       "[10 rows x 116 columns]"
      ]
     },
     "execution_count": 72,
     "metadata": {},
     "output_type": "execute_result"
    }
   ],
   "source": [
    "lb_enc = LabelEncoder()\n",
    "new_data[\"new_class\"] = lb_enc.fit_transform(new_data[\"class\"])\n",
    "new_data[[\"class\", \"new_class\"]]\n",
    "df = new_data.drop(['class'], axis = 1)\n",
    "df.head(10)"
   ]
  },
  {
   "cell_type": "code",
   "execution_count": 73,
   "metadata": {},
   "outputs": [],
   "source": [
    "data_X = df.drop(['new_class'], axis=1)\n",
    "data_y = pd.DataFrame(df['new_class'])\n",
    "y = data_y.loc[:,:].values\n",
    "X = data_X.iloc[:,:].values"
   ]
  },
  {
   "cell_type": "code",
   "execution_count": 74,
   "metadata": {},
   "outputs": [
    {
     "name": "stdout",
     "output_type": "stream",
     "text": [
      "(864, 115)\n",
      "(216, 115)\n",
      "(864, 1)\n",
      "(216, 1)\n"
     ]
    }
   ],
   "source": [
    "X_train, X_test, y_train, y_test = train_test_split(X, y, test_size=0.2, random_state=0, stratify=y)\n",
    "print (X_train.shape)\n",
    "print (X_test.shape)\n",
    "print (y_train.shape)\n",
    "print (y_test.shape)"
   ]
  },
  {
   "cell_type": "markdown",
   "metadata": {},
   "source": [
    "### Classification using SVM (entire dataset)"
   ]
  },
  {
   "cell_type": "code",
   "execution_count": 75,
   "metadata": {},
   "outputs": [
    {
     "data": {
      "text/plain": [
       "LinearSVC(C=1.0, class_weight=None, dual=True, fit_intercept=True,\n",
       "     intercept_scaling=1, loss='squared_hinge', max_iter=1000,\n",
       "     multi_class='ovr', penalty='l2', random_state=None, tol=0.0001,\n",
       "     verbose=0)"
      ]
     },
     "execution_count": 75,
     "metadata": {},
     "output_type": "execute_result"
    }
   ],
   "source": [
    "import time\n",
    "start_time = time.time()\n",
    "clf_SVM = LinearSVC()\n",
    "clf_SVM.fit(X_train, y_train)"
   ]
  },
  {
   "cell_type": "code",
   "execution_count": 76,
   "metadata": {},
   "outputs": [
    {
     "name": "stdout",
     "output_type": "stream",
     "text": [
      "Accuracy: 0.16666666666666666\n",
      "--- 1.9896941184997559 seconds ---\n"
     ]
    }
   ],
   "source": [
    "y_pred_SVM = clf_SVM.predict(X_test)\n",
    "score_SVM = clf_SVM.score(X_test, y_test)\n",
    "print(\"Accuracy:\",metrics.accuracy_score(y_test, y_pred_SVM))\n",
    "print(\"--- %s seconds ---\" % (time.time() - start_time))"
   ]
  },
  {
   "cell_type": "markdown",
   "metadata": {},
   "source": [
    "### Classification using ANN (entire dataset)"
   ]
  },
  {
   "cell_type": "code",
   "execution_count": 77,
   "metadata": {},
   "outputs": [
    {
     "name": "stdout",
     "output_type": "stream",
     "text": [
      "MLPClassifier(activation='relu', alpha=0.0001, batch_size='auto', beta_1=0.9,\n",
      "       beta_2=0.999, early_stopping=False, epsilon=1e-08,\n",
      "       hidden_layer_sizes=(9, 6), learning_rate='constant',\n",
      "       learning_rate_init=0.001, max_iter=200, momentum=0.9,\n",
      "       n_iter_no_change=10, nesterovs_momentum=True, power_t=0.5,\n",
      "       random_state=0, shuffle=True, solver='lbfgs', tol=0.0001,\n",
      "       validation_fraction=0.1, verbose=False, warm_start=False)\n",
      "1st hl nodes num:  9 ; 2nd hl nodes num:  6 ; train score:  0.2337962962962963 ; test score:  0.25462962962962965\n",
      "--- 9.835839986801147 seconds ---\n"
     ]
    }
   ],
   "source": [
    "import time\n",
    "start_time = time.time()\n",
    "max_test_score = 0\n",
    "for i in range(1,10):\n",
    "    for j in range(1, 10):\n",
    "        clf_mlp = MLPClassifier(solver='lbfgs', hidden_layer_sizes=(i, j), random_state=0)\n",
    "        clf_mlp.fit(X_train, y_train)\n",
    "        train_score = clf_mlp.score(X_train, y_train)\n",
    "        test_score = clf_mlp.score(X_test, y_test)\n",
    "        if test_score > max_test_score:\n",
    "            related_train_score = train_score\n",
    "            max_test_score = test_score\n",
    "            max_i = i\n",
    "            max_j = j\n",
    "            best_clf_mlp = clf_mlp\n",
    "print(best_clf_mlp)\n",
    "print(\"1st hl nodes num: \", max_i, \"; 2nd hl nodes num: \", max_j, \"; train score: \", related_train_score, \"; test score: \", max_test_score)\n",
    "print(\"--- %s seconds ---\" % (time.time() - start_time))"
   ]
  },
  {
   "cell_type": "markdown",
   "metadata": {},
   "source": [
    "### Getting an idea about the correlation through heatmap "
   ]
  },
  {
   "cell_type": "code",
   "execution_count": 78,
   "metadata": {},
   "outputs": [
    {
     "data": {
      "text/plain": [
       "<matplotlib.axes._subplots.AxesSubplot at 0x1a1ccf6a20>"
      ]
     },
     "execution_count": 78,
     "metadata": {},
     "output_type": "execute_result"
    },
    {
     "data": {
      "image/png": "[encoded data removed]",
      "text/plain": [
       "<Figure size 432x288 with 2 Axes>"
      ]
     },
     "metadata": {
      "needs_background": "light"
     },
     "output_type": "display_data"
    }
   ],
   "source": [
    "sns.heatmap(df.corr())"
   ]
  },
  {
   "cell_type": "markdown",
   "metadata": {},
   "source": [
    "### Dimentionality reduction using PCA (not appropriate)"
   ]
  },
  {
   "cell_type": "code",
   "execution_count": 79,
   "metadata": {},
   "outputs": [],
   "source": [
    "pca = PCA(n_components=5)\n",
    "pca.fit(X,y)\n",
    "pca_Data = pca.transform(X)"
   ]
  },
  {
   "cell_type": "code",
   "execution_count": 80,
   "metadata": {},
   "outputs": [
    {
     "data": {
      "text/plain": [
       "(1080, 5)"
      ]
     },
     "execution_count": 80,
     "metadata": {},
     "output_type": "execute_result"
    }
   ],
   "source": [
    "pca_Data.shape"
   ]
  },
  {
   "cell_type": "code",
   "execution_count": 81,
   "metadata": {},
   "outputs": [
    {
     "name": "stdout",
     "output_type": "stream",
     "text": [
      "(864, 5)\n",
      "(216, 5)\n",
      "(864, 1)\n",
      "(216, 1)\n"
     ]
    }
   ],
   "source": [
    "# Train-test split\n",
    "X_train, X_test, y_train, y_test = train_test_split(pca_Data[:,:], y, test_size=0.2, random_state=0, stratify=y)\n",
    "print (X_train.shape)\n",
    "print (X_test.shape)\n",
    "print (y_train.shape)\n",
    "print (y_test.shape)"
   ]
  },
  {
   "cell_type": "markdown",
   "metadata": {},
   "source": [
    "### Classification using SVM (after PCA)"
   ]
  },
  {
   "cell_type": "code",
   "execution_count": 82,
   "metadata": {},
   "outputs": [
    {
     "data": {
      "text/plain": [
       "LinearSVC(C=1.0, class_weight=None, dual=True, fit_intercept=True,\n",
       "     intercept_scaling=1, loss='squared_hinge', max_iter=1000,\n",
       "     multi_class='ovr', penalty='l2', random_state=None, tol=0.0001,\n",
       "     verbose=0)"
      ]
     },
     "execution_count": 82,
     "metadata": {},
     "output_type": "execute_result"
    }
   ],
   "source": [
    "import time\n",
    "start_time = time.time()\n",
    "clf_SVM = LinearSVC()\n",
    "clf_SVM.fit(X_train, y_train)"
   ]
  },
  {
   "cell_type": "code",
   "execution_count": 83,
   "metadata": {},
   "outputs": [
    {
     "name": "stdout",
     "output_type": "stream",
     "text": [
      "Accuracy: 0.18518518518518517\n",
      "--- 0.19361519813537598 seconds ---\n"
     ]
    }
   ],
   "source": [
    "y_pred_SVM = clf_SVM.predict(X_test)\n",
    "score_SVM = clf_SVM.score(X_test, y_test)\n",
    "print(\"Accuracy:\",metrics.accuracy_score(y_test, y_pred_SVM))\n",
    "print(\"--- %s seconds ---\" % (time.time() - start_time))"
   ]
  },
  {
   "cell_type": "markdown",
   "metadata": {},
   "source": [
    "### Classification using ANN (after PCA)"
   ]
  },
  {
   "cell_type": "code",
   "execution_count": 84,
   "metadata": {},
   "outputs": [
    {
     "name": "stdout",
     "output_type": "stream",
     "text": [
      "MLPClassifier(activation='relu', alpha=0.0001, batch_size='auto', beta_1=0.9,\n",
      "       beta_2=0.999, early_stopping=False, epsilon=1e-08,\n",
      "       hidden_layer_sizes=(3, 3), learning_rate='constant',\n",
      "       learning_rate_init=0.001, max_iter=200, momentum=0.9,\n",
      "       n_iter_no_change=10, nesterovs_momentum=True, power_t=0.5,\n",
      "       random_state=0, shuffle=True, solver='lbfgs', tol=0.0001,\n",
      "       validation_fraction=0.1, verbose=False, warm_start=False)\n",
      "1st hl nodes num:  3 ; 2nd hl nodes num:  3 ; train score:  0.2013888888888889 ; test score:  0.22685185185185186\n",
      "--- 3.334616184234619 seconds ---\n"
     ]
    }
   ],
   "source": [
    "import time\n",
    "start_time = time.time()\n",
    "max_test_score = 0\n",
    "for i in range(1,10):\n",
    "    for j in range(1, 10):\n",
    "        clf_mlp = MLPClassifier(solver='lbfgs', hidden_layer_sizes=(i, j), random_state=0)\n",
    "        clf_mlp.fit(X_train, y_train)\n",
    "        train_score = clf_mlp.score(X_train, y_train)\n",
    "        test_score = clf_mlp.score(X_test, y_test)\n",
    "        if test_score > max_test_score:\n",
    "            related_train_score = train_score\n",
    "            max_test_score = test_score\n",
    "            max_i = i\n",
    "            max_j = j\n",
    "            best_clf_mlp = clf_mlp\n",
    "print(best_clf_mlp)\n",
    "print(\"1st hl nodes num: \", max_i, \"; 2nd hl nodes num: \", max_j, \"; train score: \", related_train_score, \"; test score: \", max_test_score)\n",
    "print(\"--- %s seconds ---\" % (time.time() - start_time))"
   ]
  },
  {
   "cell_type": "markdown",
   "metadata": {},
   "source": [
    "### Dimentionality reduction using LDA"
   ]
  },
  {
   "cell_type": "code",
   "execution_count": 85,
   "metadata": {},
   "outputs": [
    {
     "data": {
      "text/plain": [
       "(1080, 5)"
      ]
     },
     "execution_count": 85,
     "metadata": {},
     "output_type": "execute_result"
    }
   ],
   "source": [
    "lda = LDA(n_components = 5)\n",
    "X_lda = lda.fit_transform(X, y) \n",
    "X_lda.shape"
   ]
  },
  {
   "cell_type": "code",
   "execution_count": 86,
   "metadata": {},
   "outputs": [
    {
     "data": {
      "text/html": [
       "<div>\n",
       "<style scoped>\n",
       "    .dataframe tbody tr th:only-of-type {\n",
       "        vertical-align: middle;\n",
       "    }\n",
       "\n",
       "    .dataframe tbody tr th {\n",
       "        vertical-align: top;\n",
       "    }\n",
       "\n",
       "    .dataframe thead th {\n",
       "        text-align: right;\n",
       "    }\n",
       "</style>\n",
       "<table border=\"1\" class=\"dataframe\">\n",
       "  <thead>\n",
       "    <tr style=\"text-align: right;\">\n",
       "      <th></th>\n",
       "      <th>1st-component</th>\n",
       "      <th>2nd-component</th>\n",
       "      <th>3rd-component</th>\n",
       "      <th>4th-component</th>\n",
       "      <th>5th-component</th>\n",
       "      <th>Class</th>\n",
       "    </tr>\n",
       "  </thead>\n",
       "  <tbody>\n",
       "    <tr>\n",
       "      <th>0</th>\n",
       "      <td>-2.095803</td>\n",
       "      <td>-4.373546</td>\n",
       "      <td>0.200721</td>\n",
       "      <td>3.574021</td>\n",
       "      <td>-1.140860</td>\n",
       "      <td>1.0</td>\n",
       "    </tr>\n",
       "    <tr>\n",
       "      <th>1</th>\n",
       "      <td>-1.322594</td>\n",
       "      <td>-3.137673</td>\n",
       "      <td>0.055307</td>\n",
       "      <td>2.995413</td>\n",
       "      <td>-1.455476</td>\n",
       "      <td>1.0</td>\n",
       "    </tr>\n",
       "    <tr>\n",
       "      <th>2</th>\n",
       "      <td>-1.524223</td>\n",
       "      <td>-2.663139</td>\n",
       "      <td>0.917929</td>\n",
       "      <td>2.269398</td>\n",
       "      <td>-0.512187</td>\n",
       "      <td>1.0</td>\n",
       "    </tr>\n",
       "    <tr>\n",
       "      <th>3</th>\n",
       "      <td>-1.778355</td>\n",
       "      <td>-3.318065</td>\n",
       "      <td>0.148708</td>\n",
       "      <td>2.753289</td>\n",
       "      <td>-0.949143</td>\n",
       "      <td>1.0</td>\n",
       "    </tr>\n",
       "    <tr>\n",
       "      <th>4</th>\n",
       "      <td>-1.340678</td>\n",
       "      <td>-3.501355</td>\n",
       "      <td>0.405684</td>\n",
       "      <td>2.416802</td>\n",
       "      <td>-1.144108</td>\n",
       "      <td>1.0</td>\n",
       "    </tr>\n",
       "  </tbody>\n",
       "</table>\n",
       "</div>"
      ],
      "text/plain": [
       "   1st-component  2nd-component  3rd-component  4th-component  5th-component  \\\n",
       "0      -2.095803      -4.373546       0.200721       3.574021      -1.140860   \n",
       "1      -1.322594      -3.137673       0.055307       2.995413      -1.455476   \n",
       "2      -1.524223      -2.663139       0.917929       2.269398      -0.512187   \n",
       "3      -1.778355      -3.318065       0.148708       2.753289      -0.949143   \n",
       "4      -1.340678      -3.501355       0.405684       2.416802      -1.144108   \n",
       "\n",
       "   Class  \n",
       "0    1.0  \n",
       "1    1.0  \n",
       "2    1.0  \n",
       "3    1.0  \n",
       "4    1.0  "
      ]
     },
     "execution_count": 86,
     "metadata": {},
     "output_type": "execute_result"
    }
   ],
   "source": [
    "lda_data = np.vstack((X_lda.T, df['new_class'])).T\n",
    "lda_df   = pd.DataFrame(data=lda_data, columns=(\"1st-component\", \"2nd-component\", \"3rd-component\", \"4th-component\", \"5th-component\", \"Class\"))\n",
    "lda_df.head(5)"
   ]
  },
  {
   "cell_type": "code",
   "execution_count": 87,
   "metadata": {},
   "outputs": [
    {
     "name": "stdout",
     "output_type": "stream",
     "text": [
      "(864, 5)\n",
      "(216, 5)\n",
      "(864, 1)\n",
      "(216, 1)\n"
     ]
    }
   ],
   "source": [
    "# Train-test split\n",
    "X_train, X_test, y_train, y_test = train_test_split(X_lda, y, test_size=0.2, random_state=0, stratify=y)\n",
    "print (X_train.shape)\n",
    "print (X_test.shape)\n",
    "print (y_train.shape)\n",
    "print (y_test.shape)"
   ]
  },
  {
   "cell_type": "markdown",
   "metadata": {},
   "source": [
    "### Classification using SVM (after LDA)"
   ]
  },
  {
   "cell_type": "code",
   "execution_count": 88,
   "metadata": {},
   "outputs": [
    {
     "data": {
      "text/plain": [
       "LinearSVC(C=1.0, class_weight=None, dual=True, fit_intercept=True,\n",
       "     intercept_scaling=1, loss='squared_hinge', max_iter=1000,\n",
       "     multi_class='ovr', penalty='l2', random_state=None, tol=0.0001,\n",
       "     verbose=0)"
      ]
     },
     "execution_count": 88,
     "metadata": {},
     "output_type": "execute_result"
    }
   ],
   "source": [
    "import time\n",
    "start_time = time.time()\n",
    "clf_SVM = LinearSVC()\n",
    "clf_SVM.fit(X_train, y_train)"
   ]
  },
  {
   "cell_type": "code",
   "execution_count": 89,
   "metadata": {},
   "outputs": [
    {
     "name": "stdout",
     "output_type": "stream",
     "text": [
      "Test set Accuracy: 0.9537037037037037\n",
      "--- 0.07797980308532715 seconds ---\n"
     ]
    }
   ],
   "source": [
    "y_pred_SVM = clf_SVM.predict(X_test)\n",
    "score_SVM = clf_SVM.score(X_test, y_test)\n",
    "test_score_SVM = clf_SVM.score(X_test,y_test)\n",
    "train_score_SVM = clf_SVM.score(X_train,y_train)\n",
    "best_clf_svm = clf_SVM\n",
    "print(\"Test set Accuracy:\",metrics.accuracy_score(y_test, y_pred_SVM))\n",
    "print(\"--- %s seconds ---\" % (time.time() - start_time))"
   ]
  },
  {
   "cell_type": "code",
   "execution_count": 90,
   "metadata": {},
   "outputs": [
    {
     "name": "stdout",
     "output_type": "stream",
     "text": [
      "Accuracy: 0.9120370370370371\n",
      "--- 0.1011347770690918 seconds ---\n"
     ]
    }
   ],
   "source": [
    "y_pred_SVM = clf_SVM.predict(X_train)\n",
    "score_SVM = clf_SVM.score(X_train, y_train)\n",
    "test_score_SVM = clf_SVM.score(X_test,y_test)\n",
    "train_score_SVM = clf_SVM.score(X_train,y_train)\n",
    "best_clf_svm = clf_SVM\n",
    "print(\"Accuracy:\",metrics.accuracy_score(y_train, y_pred_SVM))\n",
    "print(\"--- %s seconds ---\" % (time.time() - start_time))"
   ]
  },
  {
   "cell_type": "code",
   "execution_count": 91,
   "metadata": {},
   "outputs": [
    {
     "data": {
      "image/png": "[encoded data removed]",
      "text/plain": [
       "<Figure size 396x288 with 2 Axes>"
      ]
     },
     "metadata": {
      "needs_background": "light"
     },
     "output_type": "display_data"
    }
   ],
   "source": [
    "# # Creates a confusion matrix\n",
    "y_svm_pred = best_clf_svm.predict(X_test)\n",
    "cm = confusion_matrix(y_test, y_svm_pred) \n",
    "\n",
    "plt.figure(figsize=(5.5,4))\n",
    "sns.heatmap(cm, annot=True)\n",
    "plt.title('SVM Linear Kernel \\nAccuracy:{0:.3f}'.format(accuracy_score(y_test, y_svm_pred)))\n",
    "plt.ylabel('True label')\n",
    "plt.xlabel('Predicted label')\n",
    "plt.show()"
   ]
  },
  {
   "cell_type": "markdown",
   "metadata": {},
   "source": [
    "### Classification using ANN (after LDA)"
   ]
  },
  {
   "cell_type": "code",
   "execution_count": 92,
   "metadata": {},
   "outputs": [
    {
     "name": "stdout",
     "output_type": "stream",
     "text": [
      "MLPClassifier(activation='relu', alpha=0.0001, batch_size='auto', beta_1=0.9,\n",
      "       beta_2=0.999, early_stopping=False, epsilon=1e-08,\n",
      "       hidden_layer_sizes=(5, 8), learning_rate='constant',\n",
      "       learning_rate_init=0.001, max_iter=200, momentum=0.9,\n",
      "       n_iter_no_change=10, nesterovs_momentum=True, power_t=0.5,\n",
      "       random_state=0, shuffle=True, solver='lbfgs', tol=0.0001,\n",
      "       validation_fraction=0.1, verbose=False, warm_start=False)\n",
      "1st hl nodes num:  5 ; 2nd hl nodes num:  8 ; train score:  0.9548611111111112 ; test score:  0.9398148148148148\n",
      "---Time 12.654581069946289 seconds ---\n"
     ]
    }
   ],
   "source": [
    "import time\n",
    "start_time = time.time()\n",
    "max_test_score = 0\n",
    "for i in range(1,10):\n",
    "    for j in range(1, 10):\n",
    "        clf_mlp = MLPClassifier(solver='lbfgs', hidden_layer_sizes=(i, j), random_state=0)\n",
    "        clf_mlp.fit(X_train, y_train)\n",
    "        train_score = clf_mlp.score(X_train, y_train)\n",
    "        test_score = clf_mlp.score(X_test, y_test)\n",
    "        if test_score > max_test_score:\n",
    "            related_train_score = train_score\n",
    "            max_test_score = test_score\n",
    "            max_i = i\n",
    "            max_j = j\n",
    "            best_clf_mlp = clf_mlp\n",
    "print(best_clf_mlp)\n",
    "print(\"1st hl nodes num: \", max_i, \"; 2nd hl nodes num: \", max_j, \"; train score: \", related_train_score, \"; test score: \", max_test_score)\n",
    "print(\"---Time %s seconds ---\" % (time.time() - start_time))"
   ]
  },
  {
   "cell_type": "code",
   "execution_count": 93,
   "metadata": {},
   "outputs": [
    {
     "data": {
      "image/png": "[encoded data removed]",
      "text/plain": [
       "<Figure size 396x288 with 2 Axes>"
      ]
     },
     "metadata": {
      "needs_background": "light"
     },
     "output_type": "display_data"
    }
   ],
   "source": [
    "y_mlp_pred = best_clf_mlp.predict(X_test)\n",
    "cm = confusion_matrix(y_test, y_mlp_pred) \n",
    "plt.figure(figsize=(5.5,4))\n",
    "sns.heatmap(cm, annot=True)\n",
    "plt.title('ANN \\nAccuracy:{0:.3f}'.format(accuracy_score(y_test, y_mlp_pred)))\n",
    "plt.ylabel('True label')\n",
    "plt.xlabel('Predicted label')\n",
    "plt.show()"
   ]
  },
  {
   "cell_type": "code",
   "execution_count": 94,
   "metadata": {},
   "outputs": [
    {
     "name": "stdout",
     "output_type": "stream",
     "text": [
      "MLP classifier prediction evaluation\n",
      "              precision    recall  f1-score   support\n",
      "\n",
      "           0       0.91      0.86      0.89        36\n",
      "           1       0.97      0.92      0.95        39\n",
      "           2       0.85      0.92      0.88        36\n",
      "           3       1.00      1.00      1.00        25\n",
      "           4       0.93      0.95      0.94        40\n",
      "           5       1.00      1.00      1.00        40\n",
      "\n",
      "   micro avg       0.94      0.94      0.94       216\n",
      "   macro avg       0.94      0.94      0.94       216\n",
      "weighted avg       0.94      0.94      0.94       216\n",
      "\n"
     ]
    }
   ],
   "source": [
    "print(\"MLP classifier prediction evaluation\")\n",
    "print(classification_report(y_test, y_mlp_pred, target_names=['0', '1', '2', '3', '4', '5']))"
   ]
  },
  {
   "cell_type": "code",
   "execution_count": 95,
   "metadata": {},
   "outputs": [
    {
     "name": "stdout",
     "output_type": "stream",
     "text": [
      "SVM classifier prediction evaluation\n",
      "              precision    recall  f1-score   support\n",
      "\n",
      "           0       0.87      0.94      0.91        36\n",
      "           1       0.97      0.95      0.96        39\n",
      "           2       0.91      0.89      0.90        36\n",
      "           3       1.00      1.00      1.00        25\n",
      "           4       0.97      0.95      0.96        40\n",
      "           5       1.00      1.00      1.00        40\n",
      "\n",
      "   micro avg       0.95      0.95      0.95       216\n",
      "   macro avg       0.96      0.96      0.96       216\n",
      "weighted avg       0.95      0.95      0.95       216\n",
      "\n"
     ]
    }
   ],
   "source": [
    "print(\"SVM classifier prediction evaluation\")\n",
    "print(classification_report(y_test, y_svm_pred, target_names=['0', '1', '2', '3', '4', '5']))"
   ]
  },
  {
   "cell_type": "code",
   "execution_count": 120,
   "metadata": {},
   "outputs": [
    {
     "data": {
      "text/plain": [
       "(216, 5)"
      ]
     },
     "execution_count": 120,
     "metadata": {},
     "output_type": "execute_result"
    }
   ],
   "source": [
    "X_test.shape"
   ]
  },
  {
   "cell_type": "code",
   "execution_count": 150,
   "metadata": {},
   "outputs": [],
   "source": [
    "from sklearn.cluster import KMeans\n",
    "kmeans = KMeans(n_clusters=6)\n",
    "kmeans.fit(X_train)\n",
    "y_kmeans = kmeans.predict(X_train)"
   ]
  },
  {
   "cell_type": "code",
   "execution_count": 155,
   "metadata": {},
   "outputs": [
    {
     "data": {
      "text/plain": [
       "<matplotlib.collections.PathCollection at 0x1a1cb43c50>"
      ]
     },
     "execution_count": 155,
     "metadata": {},
     "output_type": "execute_result"
    },
    {
     "data": {
      "image/png": "[encoded data removed]",
      "text/plain": [
       "<Figure size 432x288 with 1 Axes>"
      ]
     },
     "metadata": {
      "needs_background": "light"
     },
     "output_type": "display_data"
    }
   ],
   "source": [
    "plt.scatter(X_train[:, 1], X_train[:, 2], c=y_kmeans, s=200, cmap='viridis')\n",
    "centers = kmeans.cluster_centers_\n",
    "plt.scatter(centers[:, 1], centers[:, 2], c='black', s=150, alpha=0.9)"
   ]
  },
  {
   "cell_type": "code",
   "execution_count": 142,
   "metadata": {},
   "outputs": [],
   "source": [
    "from sklearn.cluster import KMeans\n",
    "kmeans = KMeans(n_clusters=6)\n",
    "kmeans.fit(X_test)\n",
    "y_kmeans2 = kmeans.predict(X_test)"
   ]
  },
  {
   "cell_type": "code",
   "execution_count": 154,
   "metadata": {},
   "outputs": [
    {
     "data": {
      "text/plain": [
       "<matplotlib.collections.PathCollection at 0x1a1cc143c8>"
      ]
     },
     "execution_count": 154,
     "metadata": {},
     "output_type": "execute_result"
    },
    {
     "data": {
      "image/png": "[encoded data removed]",
      "text/plain": [
       "<Figure size 432x288 with 1 Axes>"
      ]
     },
     "metadata": {
      "needs_background": "light"
     },
     "output_type": "display_data"
    }
   ],
   "source": [
    "plt.scatter(X_test[:, 1], X_test[:, 2], c=y_kmeans2, s=200, cmap='viridis')\n",
    "centers = kmeans.cluster_centers_\n",
    "plt.scatter(centers[:, 1], centers[:, 2], c='black', s=150, alpha=0.9)"
   ]
  },
  {
   "cell_type": "code",
   "execution_count": null,
   "metadata": {},
   "outputs": [],
   "source": []
  }
 ],
 "metadata": {
  "kernelspec": {
   "display_name": "Python 3",
   "language": "python",
   "name": "python3"
  },
  "language_info": {
   "codemirror_mode": {
    "name": "ipython",
    "version": 3
   },
   "file_extension": ".py",
   "mimetype": "text/x-python",
   "name": "python",
   "nbconvert_exporter": "python",
   "pygments_lexer": "ipython3",
   "version": "3.7.1"
  }
 },
 "nbformat": 4,
 "nbformat_minor": 2
}
